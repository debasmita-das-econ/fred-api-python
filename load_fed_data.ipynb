{
 "cells": [
  {
   "cell_type": "code",
   "execution_count": null,
   "metadata": {},
   "outputs": [],
   "source": [
    "# Data manipulation\n",
    "import numpy as np\n",
    "import pandas as pd\n",
    "\n",
    "# Data visualization\n",
    "import matplotlib as mpl\n",
    "import matplotlib.pyplot as plt\n",
    "import seaborn as sns\n",
    "\n",
    "# Fred library\n",
    "# install fredapi library if it is not already installed, \"pip install fredapi\"\n",
    "from fredapi import Fred\n",
    "\n",
    "fred = Fred(api_key='your_API_key_here')"
   ]
  },
  {
   "cell_type": "code",
   "execution_count": null,
   "metadata": {},
   "outputs": [],
   "source": [
    "# Now we will import our desired data series by calling \"get_series()\"\n",
    "# Identify the series id: \n",
    "# Go to the series webpage, and we will find the series id in parentheses \n",
    "# that are directly beside the title of the graph of the series\n",
    "\n",
    "# designate a start and end date for the series\n",
    "start = '1970-01-31'\n",
    "end = '2023-01-31'\n",
    "\n",
    "# Variable 1: \n",
    "# 30-Year Fixed Rate Mortgage Average in the United States (MORTGAGE30US)\n",
    "# https://fred.stlouisfed.org/series/MORTGAGE30US\n",
    "\n",
    "# utilize pd.DataFrame() to convert our series into a pandas data frame\n",
    "header_name = ['mortgage_int']\n",
    "mortgage30raw = pd.DataFrame(fred.get_series(\n",
    "    'MORTGAGE30US',\n",
    "    observation_start=start,\n",
    "    observation_end=end)\n",
    "    , columns=header_name)\n",
    "\n",
    "# note that the raw data points are every weekday, four times a month\n",
    "mortgage30raw.head()"
   ]
  },
  {
   "cell_type": "code",
   "execution_count": null,
   "metadata": {},
   "outputs": [],
   "source": [
    "# To get monthly data of the series, we will apply the \"resample()\" function\n",
    "# with the month argument and then take the mean of that series.\n",
    "# This will give us a monthly average of all the series of the data we pulled.\n",
    "mortgage30MO = pd.DataFrame(fred.get_series(\n",
    "    'MORTGAGE30US',\n",
    "    observation_start=start,\n",
    "    observation_end=end)).resample(\"M\").mean()\n",
    "\n",
    "mortgage30MO.head()"
   ]
  },
  {
   "cell_type": "code",
   "execution_count": null,
   "metadata": {},
   "outputs": [],
   "source": [
    "# Similarly, we can get yearly data\n",
    "mortgage30YR = pd.DataFrame(fred.get_series(\n",
    "    'MORTGAGE30US',\n",
    "    observation_start=start,\n",
    "    observation_end=end)).resample(\"Y\").mean()\n",
    "\n",
    "mortgage30YR.head()"
   ]
  },
  {
   "cell_type": "code",
   "execution_count": null,
   "metadata": {},
   "outputs": [],
   "source": [
    "# Variable 2:\n",
    "# Rental Vacancy Rate in the United States (RRVRUSQ156N)\n",
    "# https://fred.stlouisfed.org/series/RRVRUSQ156N\n",
    "\n",
    "header_name = ['rental_vacancy']\n",
    "rental_vac_rt = pd.DataFrame(fred.get_series(\n",
    "    'RRVRUSQ156N',\n",
    "    observation_start = start,\n",
    "    observation_end = end)\n",
    "    , columns=header_name)\n",
    "\n",
    "rental_vac_rt.head()"
   ]
  },
  {
   "cell_type": "code",
   "execution_count": null,
   "metadata": {},
   "outputs": [],
   "source": [
    "# Variable 3:\n",
    "# Consumer Price Index for All Urban Consumers: All Items in U.S. City Average (CPIAUCSL)\n",
    "# https://fred.stlouisfed.org/series/CPIAUCSL\n",
    "\n",
    "header_name = ['cpi']\n",
    "cpi = pd.DataFrame(fred.get_series(\n",
    "    'CPIAUCSL',\n",
    "    observation_start=start,\n",
    "    observation_end=end\n",
    "), columns=header_name)\n",
    "cpi.head()"
   ]
  },
  {
   "cell_type": "code",
   "execution_count": null,
   "metadata": {},
   "outputs": [],
   "source": [
    "# Now we use pd.concat() to combine the two time series DataFrames along the columns axis \n",
    "# to create a single DataFrame containing all three series\n",
    "\n",
    "# Concatenate the three DataFrames along the columns axis (axis=1)\n",
    "fed_df = pd.concat([mortgage30raw,rental_vac_rt, cpi], axis=1)\n",
    "\n",
    "fed_df.head(10)"
   ]
  },
  {
   "cell_type": "code",
   "execution_count": null,
   "metadata": {},
   "outputs": [],
   "source": [
    "# Note that the Mortgage data is starting from 1971, so it has NaN values in 1970\n",
    "# Also, rental vacancy rate data is quarterly, and cpi data is montly\n",
    "# To convert the combined data to be weekly, we will adopt the following approach:\n",
    "\n",
    "# fill missing values forward and remove NaN rows\n",
    "fed_df = fed_df.ffill().dropna()\n",
    "fed_df\n",
    "\n",
    "# Here's what we are doing:\n",
    "# The \"ffill()\" method stands for \"forward fill.\" It is used to fill missing values in the DataFrame \n",
    "# by propagating the last valid observation forward. In other words, if there are any \n",
    "# NaN (Not-a-Number) values in the DataFrame, ffill() will replace them with the most recent non-NaN \n",
    "# value that occurred before them in the same column.\n",
    "\n",
    "# After applying ffill(), there might still be rows with NaN values if the initial part of the \n",
    "# DataFrame had missing values before the first valid observation (which is the case in Mortgage data). \n",
    "# By calling \"dropna()\"\", these rows with NaN values are removed from the DataFrame."
   ]
  }
 ],
 "metadata": {
  "kernelspec": {
   "display_name": "Python 3",
   "language": "python",
   "name": "python3"
  },
  "language_info": {
   "name": "python",
   "version": "3.9.6 (default, May  7 2023, 23:32:44) \n[Clang 14.0.3 (clang-1403.0.22.14.1)]"
  },
  "orig_nbformat": 4,
  "vscode": {
   "interpreter": {
    "hash": "31f2aee4e71d21fbe5cf8b01ff0e069b9275f58929596ceb00d14d90e3e16cd6"
   }
  }
 },
 "nbformat": 4,
 "nbformat_minor": 2
}
